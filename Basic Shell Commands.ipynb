{
 "cells": [
  {
   "cell_type": "markdown",
   "metadata": {
    "heading_collapsed": true
   },
   "source": [
    "## Shell"
   ]
  },
  {
   "cell_type": "markdown",
   "metadata": {
    "hidden": true
   },
   "source": [
    "A **shell** is a powerful user interface for **Unix-like operating systems**. It can interpret commands and run other programs. It also enables access to files, utilities, and applications, and is an interactive scripting language. Additionally, we can use a shell to automate tasks. Linux shell commands are used for navigating and working with files and directories. We can also use them for file compression and archiving.\n",
    "\n",
    "The default shell on Linux systems is usually **Bash**. Other shells include the Bourne shell (**sh**), the Korn shell (**ksh**), **tcsh**, **zsh**, and **fish**."
   ]
  },
  {
   "cell_type": "markdown",
   "metadata": {},
   "source": [
    "## Basic Linux and Bash Commands"
   ]
  },
  {
   "cell_type": "markdown",
   "metadata": {
    "heading_collapsed": true
   },
   "source": [
    "### Getting information"
   ]
  },
  {
   "cell_type": "markdown",
   "metadata": {
    "hidden": true
   },
   "source": [
    "#### return your user name\n",
    "whoami\n",
    "\n",
    "#### return your user and group id\n",
    "id\n",
    "\n",
    "#### return operating system name, username, and other info\n",
    "uname -a\n",
    "\n",
    "#### display reference manual for a command\n",
    "man top\n",
    "\n",
    "#### get help on a command\n",
    "curl --help\n",
    "\n",
    "#### return the current date and time\n",
    "date\n",
    "\n",
    "#### find out the path of the command 'bash'\n",
    "which bash"
   ]
  },
  {
   "cell_type": "markdown",
   "metadata": {
    "heading_collapsed": true
   },
   "source": [
    "### Monitoring performance and status"
   ]
  },
  {
   "cell_type": "markdown",
   "metadata": {
    "hidden": true
   },
   "source": [
    "#### list selection of or all running processes and their PIDs\n",
    "ps\n",
    "\n",
    "ps -e\n",
    "\n",
    "ps au\n",
    "\n",
    "#### display resource usage, provides a dynamic real-time view of a running system\n",
    "top\n",
    "\n",
    "#### estimates and displays the disk space used by files\n",
    "du-h\n",
    "\n",
    "#### list mounted file systems and usage\n",
    "df-h\n",
    "\n",
    "#### displays the total amount of free and used memory\n",
    "free\n",
    "\n",
    "#### Display the amount of memory in megabytes\n",
    "free -m\n",
    "\n",
    "#### Display the amount of memory in gigabytes\n",
    "free -g"
   ]
  },
  {
   "cell_type": "markdown",
   "metadata": {
    "heading_collapsed": true
   },
   "source": [
    "### Working with files"
   ]
  },
  {
   "cell_type": "markdown",
   "metadata": {
    "hidden": true
   },
   "source": [
    "#### copy a file\n",
    "cp file.txt new_path/new_name.txt\n",
    "\n",
    "#### copy a directory\n",
    "cp -r my_directory/ new_path/new_copied_directory\n",
    "\n",
    "#### change file name or path\n",
    "mv this_file.txt that_path/that_file.txt\n",
    "\n",
    "#### remove a file verbosely\n",
    "rm this_old_file.txt -v\n",
    "\n",
    "#### create an empty file, or update existing file's timestamp\n",
    "touch a_new_file.txt\n",
    "\n",
    "#### change/modify file permissions to 'execute' for all users\n",
    "chmod +x my_script.sh\n",
    "\n",
    "#### change/modify file permissions to limit the execute permission to only the owner\n",
    "chmod u+x my_script.sh\n",
    "\n",
    "#### get count of lines, words, or characters in file\n",
    "wc -l table_of_data.csv\n",
    "\n",
    "wc -w my_essay.txt\n",
    "\n",
    "wc -m some_document.txt\n",
    "\n",
    "#### return lines matching a pattern from files matching a filename pattern - case insensitive and whole words only\n",
    "grep -iw hello \\*.txt\n",
    "\n",
    "#### return file names with lines matching the pattern 'hello' from files matching a filename pattern\n",
    "grep -l hello \\*.txt"
   ]
  },
  {
   "cell_type": "markdown",
   "metadata": {
    "heading_collapsed": true
   },
   "source": [
    "### Navigating and working with directories"
   ]
  },
  {
   "cell_type": "markdown",
   "metadata": {
    "hidden": true
   },
   "source": [
    "#### list files and directories by date, newest last\n",
    "ls -lrt\n",
    "\n",
    "#### find files in directory tree with suffix 'sh'\n",
    "find -name '\\*.sh'\n",
    "\n",
    "#### return present working directory\n",
    "pwd\n",
    "\n",
    "#### make a new directory\n",
    "mkdir new_folder\n",
    "\n",
    "#### change the current directory: up one level, home, or some other path\n",
    "cd ../\n",
    "\n",
    "cd ~ or cd\n",
    "\n",
    "cd another_directory\n",
    "\n",
    "#### remove directory, verbosely\n",
    "rmdir temp_directory -v"
   ]
  },
  {
   "cell_type": "markdown",
   "metadata": {
    "heading_collapsed": true
   },
   "source": [
    "### Printing file and string contents"
   ]
  },
  {
   "cell_type": "markdown",
   "metadata": {
    "hidden": true
   },
   "source": [
    "#### print file contents\n",
    "cat my_shell_script.sh\n",
    "\n",
    "#### print file contents page-by-page, displays text by one screen at a time\n",
    "more ReadMe.txt\n",
    "\n",
    "#### displays text by allowing scrolling\n",
    "less ReadMe.txt\n",
    "\n",
    "#### print first N lines of file\n",
    "head -10 data_table.csv\n",
    "\n",
    "#### print last N lines of file\n",
    "tail -10 data_table.csv\n",
    "\n",
    "#### print string or variable value\n",
    "echo \"I am not a robot\"\n",
    "\n",
    "echo \"I am $USERNAME\""
   ]
  },
  {
   "cell_type": "markdown",
   "metadata": {
    "heading_collapsed": true
   },
   "source": [
    "### Compression and archiving"
   ]
  },
  {
   "cell_type": "markdown",
   "metadata": {
    "hidden": true
   },
   "source": [
    "#### archive a set of files\n",
    "tar -cvf my_archive.tar.gz file1 file2 file3\n",
    "\n",
    "#### compress a set of files\n",
    "zip my_zipped_files.zip file1 file2\n",
    "\n",
    "zip my_zipped_folders.zip directory1 directory2\n",
    "\n",
    "#### extract files from a compressed zip archive\n",
    "unzip my_zipped_file.zip\n",
    "\n",
    "unzip my_zipped_file.zip -d extract_to_this_directory"
   ]
  },
  {
   "cell_type": "markdown",
   "metadata": {
    "heading_collapsed": true
   },
   "source": [
    "### Performing network operations"
   ]
  },
  {
   "cell_type": "markdown",
   "metadata": {
    "hidden": true
   },
   "source": [
    "#### print hostname\n",
    "hostname\n",
    "\n",
    "#### send packets to URL and print response\n",
    "ping www.google.com\n",
    "\n",
    "#### display or configure system network interfaces\n",
    "ifconfig\n",
    "\n",
    "ip\n",
    "\n",
    "#### display contents of file at a URL\n",
    "curl <url>\n",
    "\n",
    "#### download file from a URL\n",
    "wget <url>"
   ]
  },
  {
   "cell_type": "markdown",
   "metadata": {
    "heading_collapsed": true
   },
   "source": [
    "### Pipes and Filters"
   ]
  },
  {
   "cell_type": "markdown",
   "metadata": {
    "hidden": true
   },
   "source": [
    "#### chain filter commands using the pipe operator\n",
    "ls | sort -r\n",
    "\n",
    "#### pipe the output of manual page for ls to head to display the first 20 lines\n",
    "man ls | head -20"
   ]
  },
  {
   "cell_type": "markdown",
   "metadata": {
    "heading_collapsed": true
   },
   "source": [
    "### Shell and Environment Variables"
   ]
  },
  {
   "cell_type": "markdown",
   "metadata": {
    "hidden": true
   },
   "source": [
    "#### list all shell variables\n",
    "set\n",
    "\n",
    "#### define a shell variable called my_planet and assign value Earth to it\n",
    "my_planet=Earth\n",
    "\n",
    "#### display shell variable\n",
    "echo $my_planet\n",
    "\n",
    "#### list all environment variables\n",
    "env\n",
    "\n",
    "#### environment vars: define/extend variable scope to child processes\n",
    "export my_planet\n",
    "\n",
    "export my_galaxy='Milky Way'"
   ]
  },
  {
   "cell_type": "markdown",
   "metadata": {
    "heading_collapsed": true
   },
   "source": [
    "### Metacharacters"
   ]
  },
  {
   "cell_type": "markdown",
   "metadata": {
    "hidden": true
   },
   "source": [
    "#### comments\n",
    "#The shell will not respond to this message\n",
    "\n",
    "#### command separator\n",
    "echo 'here are some files and folders'; ls\n",
    "\n",
    "#### file name expansion wildcard\n",
    "ls *.json\n",
    "\n",
    "#### single character wildcard\n",
    "ls file_2021-06-??.json"
   ]
  },
  {
   "cell_type": "markdown",
   "metadata": {
    "heading_collapsed": true
   },
   "source": [
    "### Quoting"
   ]
  },
  {
   "cell_type": "markdown",
   "metadata": {
    "hidden": true
   },
   "source": [
    "#### single quotes - interpret literally\n",
    "echo 'My home directory can be accessed by entering: echo $HOME'\n",
    "\n",
    "#### double quotes - interpret literally, but evaluate metacharacters\n",
    "echo \"My home directory is $HOME\"\n",
    "\n",
    "#### backslash - escape metacharacter interpretation\n",
    "echo \"This dollar sign should render: \\$\""
   ]
  },
  {
   "cell_type": "markdown",
   "metadata": {
    "heading_collapsed": true
   },
   "source": [
    "### I/O Redirection"
   ]
  },
  {
   "cell_type": "markdown",
   "metadata": {
    "hidden": true
   },
   "source": [
    "#### redirect output to file\n",
    "echo 'Write this text to file x' > x\n",
    "\n",
    "#### append output to file\n",
    "echo 'Add this line to file x' >> x\n",
    "\n",
    "#### redirect standard error to file\n",
    "bad_command_1 2> error.log\n",
    "\n",
    "#### append standard error to file\n",
    "bad_command_2 2>> error.log\n",
    "\n",
    "#### redirect file contents to standard input\n",
    "$ tr “[a-z]” “[A-Z]” < a_text_file.txt\n",
    "\n",
    "#### the input redirection above is equivalent to\n",
    "$cat a_text_file.txt | tr “[a-z]” “[A-Z]”"
   ]
  },
  {
   "cell_type": "markdown",
   "metadata": {
    "heading_collapsed": true
   },
   "source": [
    "### Command Substitution"
   ]
  },
  {
   "cell_type": "markdown",
   "metadata": {
    "hidden": true
   },
   "source": [
    "#### capture output of a command and echo its value\n",
    "THE_PRESENT=$(date)\n",
    "\n",
    "echo \"There is no time like $THE_PRESENT\""
   ]
  },
  {
   "cell_type": "markdown",
   "metadata": {
    "heading_collapsed": true
   },
   "source": [
    "### Command line arguments"
   ]
  },
  {
   "cell_type": "markdown",
   "metadata": {
    "hidden": true
   },
   "source": [
    "./My_Bash_Script.sh arg1 arg2 arg3"
   ]
  },
  {
   "cell_type": "markdown",
   "metadata": {
    "heading_collapsed": true
   },
   "source": [
    "### Batch vs. concurrent modes"
   ]
  },
  {
   "cell_type": "markdown",
   "metadata": {
    "hidden": true
   },
   "source": [
    "#### run commands sequentially\n",
    "start=$(date); \n",
    "\n",
    "./MyBigScript.sh; \n",
    "\n",
    "end=$(date)\n",
    "\n",
    "#### run commands in parallel\n",
    "./ETL_chunk_one_on_these_nodes.sh & ./ETL_chunk_two_on_those_nodes.sh"
   ]
  },
  {
   "cell_type": "markdown",
   "metadata": {
    "heading_collapsed": true
   },
   "source": [
    "### Scheduling jobs with Cron"
   ]
  },
  {
   "cell_type": "markdown",
   "metadata": {
    "hidden": true
   },
   "source": [
    "#### open crontab editor\n",
    "crontab -e\n",
    "\n",
    "#### job scheduling syntax (minute, hour, day of month, month, day of week)\n",
    "m h dom mon dow command\n",
    "\n",
    "(* means any)\n",
    "\n",
    "#### append the date/time to file every Sunday at 6:15 pm\n",
    "15 18 * * 0 date >> sundays.txt\n",
    "\n",
    "#### run a shell script on the first minute of the first day of each month\n",
    "1 0 1 * * ./My_Shell_Script.sh\n",
    "\n",
    "#### back up your home directory every Monday at 3 am\n",
    "0 3 * * 1 tar -cvf my_backup_path\\my_archive.tar.gz $HOME\\\n",
    "\n",
    "#### deploy your cron job\n",
    "- Close the crontab editor and save the file\n",
    "\n",
    "#### list all cron jobs\n",
    "crontab -l"
   ]
  },
  {
   "cell_type": "markdown",
   "metadata": {
    "heading_collapsed": true
   },
   "source": [
    "### User Input"
   ]
  },
  {
   "cell_type": "markdown",
   "metadata": {
    "hidden": true
   },
   "source": [
    "#### Wait for user to enter a name, and save the entered name into the variable 'name'\n",
    "echo -n \"Enter your name :\";\n",
    "\n",
    "read name;\n",
    "\n",
    "echo \"Welcome $name\""
   ]
  },
  {
   "cell_type": "markdown",
   "metadata": {
    "heading_collapsed": true
   },
   "source": [
    "## Shell Scripting\n",
    "The `.sh` extension is a convention used to indicate that the file is a shell script.\n",
    "\n",
    "A **shell script** is an executable text file in which the first line usually has the form of an interpreter directive. The **interpreter directive** is also known as a `shebang directive`, and has the following form:\n",
    "```linux\n",
    "#!interpreter [optional argument]\n",
    "```\n",
    "**Interpreter** is an absolute path to an `executable program`, and the **optional argument** is a string representing a `single argument`.\n",
    "\n",
    "Shell scripts are scripts that invoke a shell program. For example:\n",
    "* `#!/bin/sh` invokes the Bourne shell or other compatible shell program, from the bin directory.\n",
    "* `#!/bin/bash` aka the **bash shebang** invokes the Bash shell. \n",
    "\n",
    "**Shebang directives** aren't limited to shell programs. For example, we could create a python script with the following directive:\n",
    "\n",
    "*`#!/usr/bin/env python3`\n"
   ]
  },
  {
   "cell_type": "code",
   "execution_count": null,
   "metadata": {
    "hidden": true
   },
   "outputs": [],
   "source": []
  },
  {
   "cell_type": "code",
   "execution_count": null,
   "metadata": {
    "hidden": true
   },
   "outputs": [],
   "source": []
  },
  {
   "cell_type": "markdown",
   "metadata": {
    "hidden": true
   },
   "source": [
    "Filters are shell commands, and the pipe operator allows you to chain filter commands \n",
    "\n",
    "Command substitution is used to replace a command with its output "
   ]
  },
  {
   "cell_type": "code",
   "execution_count": null,
   "metadata": {
    "hidden": true
   },
   "outputs": [],
   "source": []
  }
 ],
 "metadata": {
  "kernelspec": {
   "display_name": "Python 3",
   "language": "python",
   "name": "python3"
  },
  "language_info": {
   "codemirror_mode": {
    "name": "ipython",
    "version": 3
   },
   "file_extension": ".py",
   "mimetype": "text/x-python",
   "name": "python",
   "nbconvert_exporter": "python",
   "pygments_lexer": "ipython3",
   "version": "3.7.3"
  }
 },
 "nbformat": 4,
 "nbformat_minor": 4
}
