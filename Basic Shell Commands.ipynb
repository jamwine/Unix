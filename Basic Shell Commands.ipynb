{
 "cells": [
  {
   "cell_type": "markdown",
   "metadata": {},
   "source": [
    "# Linux"
   ]
  },
  {
   "cell_type": "markdown",
   "metadata": {},
   "source": [
    "**Linux** is an open source version of the **UNIX operating system**. The open source nature of this operating system\n",
    "has led to many different versions of it. These versions are called **distributions**, often abbreviated as **distro**. Some popular Linux distributions are **Debian**, **Red Hat**, **Fedora**, and **Ubuntu**.\n",
    "\n",
    "The portion of the operating system that handles the computer resources (CPU, RAM and devices) is referred to as the **kernel**. When people refer to the Linux operating system they mean the kernel as well as the accompanying set of tools and libraries that is actually called **GNU**."
   ]
  },
  {
   "cell_type": "markdown",
   "metadata": {
    "heading_collapsed": true
   },
   "source": [
    "## Shell"
   ]
  },
  {
   "cell_type": "markdown",
   "metadata": {
    "hidden": true
   },
   "source": [
    "The **Command Line Interface** (**CLI**), also known as **Shell**, is one way to interact with our computer. The default shell on Linux systems is usually **Bash**. Other shells include the Bourne shell (**sh**), the Korn shell (**ksh**), **tcsh**, **zsh**, and **fish**.\n",
    "\n",
    "A **shell** is a powerful user interface for **Unix-like operating systems**. It can interpret commands and run other programs. It also enables access to files, utilities, and applications, and is an interactive scripting language. Additionally, we can use a shell to automate tasks. Linux shell commands are used for navigating and working with files and directories. We can also use them for file compression and archiving.\n",
    "\n",
    "\n",
    "The **command line prompt** looks something like this:\n",
    "```bash\n",
    "shaur@JAMWINE:~/workspace$\n",
    "```\n",
    "* The first part of the command prompt `shaur` is the **username** followed by the **@**symbol. \n",
    "\n",
    "* The second part of the command prompt `JAMWINE` is the **server address** (or **machine name**) after the **@** sign. On cloud instances, it is randomly specified using a unique combination of words. \n",
    "\n",
    "* The information after the **colon** is an abbreviation of the current working directory.\n",
    "* The command line prompt ends with a **$**."
   ]
  },
  {
   "cell_type": "markdown",
   "metadata": {},
   "source": [
    "## Basic Linux and Bash Commands"
   ]
  },
  {
   "cell_type": "markdown",
   "metadata": {},
   "source": [
    "* The **~** or the **tilde symbol** represents the **home directory**.\n",
    "\n",
    "\n",
    "* **Dots** in bash are useful utilities that help with navigating the file system using the CLI. In an `ls -a` listing:\n",
    "    * **.** refers to the **current directory**.\n",
    "    * **..** refers to the **parent directory**.\n",
    "\n",
    "\n",
    "* A **relative path** is related to the **current working directory**. \n",
    "\n",
    "\n",
    "* An **absolute path** is represented as starting from the **root directory** by leading with the **/**.\n"
   ]
  },
  {
   "cell_type": "markdown",
   "metadata": {
    "heading_collapsed": true
   },
   "source": [
    "### Getting information"
   ]
  },
  {
   "cell_type": "markdown",
   "metadata": {
    "hidden": true
   },
   "source": [
    "#### return your user name\n",
    "`whoami`\n",
    "\n",
    "#### return your user and group id\n",
    "`id`\n",
    "\n",
    "#### return operating system name, username, and other info\n",
    "`uname -a`\n",
    "\n",
    "#### display reference manual for a command\n",
    "`man top`\n",
    "\n",
    "#### get help on a command\n",
    "`curl --help`\n",
    "\n",
    "#### return the current date and time\n",
    "`date`\n",
    "\n",
    "#### find out the path of the command 'bash'\n",
    "`which bash`"
   ]
  },
  {
   "cell_type": "markdown",
   "metadata": {
    "heading_collapsed": true
   },
   "source": [
    "### Navigating and working with directories"
   ]
  },
  {
   "cell_type": "markdown",
   "metadata": {
    "hidden": true
   },
   "source": [
    "#### A regular sorted list of files in the directory\n",
    "`ls`\n",
    "\n",
    "#### A more complete list with permissions\n",
    "`ls -l`\n",
    "\n",
    "#### Hidden files were included\n",
    "`ls -a`\n",
    "\n",
    "#### A comma separated list\n",
    "`ls -m`\n",
    "\n",
    "#### Included directories and their contents\n",
    "`ls -R`\n",
    "\n",
    "#### list files and directories by date, newest last\n",
    "`ls -lrt`\n",
    "\n",
    "#### return present working directory\n",
    "`pwd`\n",
    "\n",
    "#### make a new directory\n",
    "`mkdir new_folder`\n",
    "\n",
    "#### change the current directory: up one level\n",
    "`cd ..`\n",
    "\n",
    "#### change the current directory: home\n",
    "`cd ~ or cd`\n",
    "\n",
    "#### change the current directory: some other path\n",
    "`cd another_directory`\n",
    "\n",
    "#### remove directory (recursive)\n",
    "`rmdir -r temp_directory`\n",
    "\n",
    "#### find files in home directory with suffix 'sh'\n",
    "`find ~/ -name '*.sh'`\n",
    "\n",
    "#### find files in home directory that are greater in size than 100 bytes\n",
    "To specify bigger than, we need to put a **+** in front of the 100.\n",
    "\n",
    "`find ~/ -size +100`\n",
    "\n",
    "* We may specify **k** for **kilobytes**, **M** for **megabytes** next to the size (e.g. `find ~/ -size +10k`).\n",
    "* For a range, we can specify both a minimum and maximum file size. \n",
    "\n",
    "#### find files between 10 and 50 bytes\n",
    "`find ~/ -size +10 -size -50`\n",
    "\n",
    "#### Find files or directories in ~/workspace/code that have been modified in the last year\n",
    "`find ~/workspace/code -mtime -365`"
   ]
  },
  {
   "cell_type": "markdown",
   "metadata": {
    "heading_collapsed": true
   },
   "source": [
    "### Working with files"
   ]
  },
  {
   "cell_type": "markdown",
   "metadata": {
    "hidden": true
   },
   "source": [
    "#### copy a file\n",
    "`cp file.txt new_path/new_name.txt`\n",
    "\n",
    "#### copy a directory\n",
    "`cp -r my_directory/ new_path/new_copied_directory`\n",
    "\n",
    "#### change file name or path\n",
    "`mv this_file.txt that_path/that_file.txt`\n",
    "\n",
    "#### move all our .txt files into the code directory\n",
    "`mv *.txt code`\n",
    "\n",
    "#### remove a file verbosely\n",
    "`rm this_old_file.txt -v`\n",
    "\n",
    "#### create an empty file, or update existing file's timestamp\n",
    "`touch a_new_file.txt`\n",
    "\n",
    "#### change/modify file permissions to 'execute' for all users\n",
    "`chmod +x my_script.sh`\n",
    "\n",
    "####  add write permission for all users for the file sample.txt\n",
    "`sudo chmod ugo+w sample.txt`\n",
    "\n",
    "#### change/modify file permissions to limit the execute permission to only the owner\n",
    "`chmod u+x my_script.sh`\n",
    "\n",
    "* `sudo` or **super user do** combined with the `chmod` command allows to change file permissions.\n",
    "\n",
    "#### get count of lines in file\n",
    "`wc -l table_of_data.csv`\n",
    "\n",
    "#### get count of words in file\n",
    "`wc -w my_essay.txt`\n",
    "\n",
    "#### get count of characters in file\n",
    "`wc -m some_document.txt`\n",
    "\n",
    "#### return lines matching a pattern from files matching a filename pattern - whole words only\n",
    "`grep -w 'hello' \\*.txt`\n",
    "\n",
    "#### return lines matching a pattern from files matching a filename pattern - case insensitive and whole words only\n",
    "`grep -iw 'hello' \\*.txt`\n",
    "\n",
    "#### return file names with lines matching the pattern 'hello' from files matching a filename pattern\n",
    "`grep -l 'hello' \\*.txt`\n",
    "\n",
    "#### return lines that do not contain printf in the c files in the code/src/ directory\n",
    "`grep -v 'printf' code/src/*.c`\n",
    "\n",
    "#### provide access information about a file\n",
    "`stat sample.txt`\n",
    "\n",
    "#### provide system information about a file\n",
    "`stat -f sample.txt`\n",
    "\n",
    "#### information about the file type\n",
    "`file sample.txt`"
   ]
  },
  {
   "cell_type": "markdown",
   "metadata": {
    "heading_collapsed": true
   },
   "source": [
    "### Printing file and string contents"
   ]
  },
  {
   "cell_type": "markdown",
   "metadata": {
    "hidden": true
   },
   "source": [
    "#### print file contents\n",
    "`cat my_shell_script.sh`\n",
    "\n",
    "#### print file contents page-by-page, displays text by one screen at a time\n",
    "`more ReadMe.txt`\n",
    "\n",
    "`more -d ReadMe.txt`\n",
    "\n",
    "* The `-d` parameter instructs the more command to put a prompt at the bottom telling you to press space for more text or q to quit.\n",
    "\n",
    "#### displays text by allowing scrolling\n",
    "`less ReadMe.txt`\n",
    "\n",
    "#### print first N lines of file\n",
    "`head -10 data_table.csv`\n",
    "\n",
    "#### print last N lines of file\n",
    "`tail -10 data_table.csv`\n",
    "\n",
    "#### print string\n",
    "`echo \"I am not a robot\"`\n",
    "\n",
    "#### print variable value\n",
    "`echo \"I am $USERNAME\"`\n",
    "\n",
    "---\n",
    "The **printf** command formats and prints data. Here is a summary of the common parameters used with `printf`:\n",
    "\n",
    "* `%d` integer number printed in decimal \n",
    "* `%f` floating point number \n",
    "* `%c` character \n",
    "* `%s` string \n",
    "\n",
    "Unlike `echo`, `printf` does not send an automatic newline at the end of the output. The printf command allows us to optionally assign the result to a variable rather than outputting to the screen (which is useful in Bash\n",
    "scripts)\n",
    "\n",
    "#### print a formatted string\n",
    "`printf \"%s got %s wrong answer(s)\\n\" \"Jane\" \"1\"`\n",
    "\n",
    "#### Print the result of a math equation\n",
    "`printf \"%d\\n\" $((8+4))`\n",
    "\n",
    "#### Print only the first 4 digits beyond the decimal point of a floating point number\n",
    "`printf \"%.4f\\n\" 3.1415926535`\n",
    "\n"
   ]
  },
  {
   "cell_type": "markdown",
   "metadata": {},
   "source": [
    "### Compression and archiving"
   ]
  },
  {
   "cell_type": "markdown",
   "metadata": {},
   "source": [
    "#### gzip compression tool\n",
    "* Zip the large text file: `gzip file1.txt`\n",
    "* Get information about the compression using the `-l` option: `gzip -l file1.txt.gz`\n",
    "* Unzip the file: `gzip -d file1.txt.gz`\n",
    "\n",
    "The above commands are similar for **bzip2** and **xz** compression tools.\n",
    "\n",
    "#### archive a set of files\n",
    "`tar -cvf my_archive.tar.gz file1 file2 file3`\n",
    "\n",
    "Some common **tar** flags are:\n",
    "* `-c`\tCreate an archive\n",
    "* `-f`\tUse archive file\n",
    "* `-r`\tAppend to an archive\n",
    "* `-t`\tList contents of an archive\n",
    "* `-v`\tVerbose output\n",
    "* `-x`\tExtract contents of an archive\n",
    "* `-z`\tCompress the archive using gzip\n",
    "\n",
    "#### list the contents of the images.tar file\n",
    "`tar -tvf images.tar`\n",
    "\n",
    "#### Archive all the files in the images directory to a file named imagedir.cpio\n",
    "`cd images`\n",
    "\n",
    "`ls | cpio -o > imagedir.cpio`\n",
    "\n",
    "`ls -l imagedir.cpio`\n",
    "\n",
    "* The **cpio command** is used to copy files into and out of archives. The name refers to its functionality, **copy in copy out**. It is similar to `tar` but there are some distinct differences:\n",
    "    * `cpio` is **not recursive** by default\n",
    "    * `cpio` will **not overwrite newer data file** whereas the default for `tar` is to overwrite\n",
    "    \n",
    "    \n",
    "* Common cpio flags are:\n",
    "    * **-o**:\tcopy out mode copies files into an archive\n",
    "    * **-i**:\tcopy in mode copies files out of an archive\n",
    "    * **-p**:\tcopy pass copies files from one directory tree to another\n",
    "\n",
    "#### Extract a compressed archive to a different directory - the directory must already exist\n",
    "`mkdir extracted`\n",
    "\n",
    "`tar -zxvf images.tar.gz -C extracted`\n",
    "\n",
    "#### compress a set of files\n",
    "`zip my_zipped_files.zip file1 file2`\n",
    "\n",
    "`zip my_zipped_folders.zip directory1 directory2`\n",
    "\n",
    "* The **zip** command archives and compresses a set of files. It is a popular cross platform tool and that makes it ideal for sharing files with people on different systems. `zip` is **not recursive** by default, if we want it to zip everything in a directory, we need to specify the `-r` flag.\n",
    "\n",
    "`zip -r my_zipped_folders.zip directory`\n",
    "\n",
    "#### extract files from a compressed zip archive\n",
    "`unzip my_zipped_file.zip`\n",
    "\n",
    "`unzip my_zipped_file.zip -d extract_to_this_directory`\n",
    "\n"
   ]
  },
  {
   "cell_type": "markdown",
   "metadata": {
    "heading_collapsed": true
   },
   "source": [
    "### Performing network operations"
   ]
  },
  {
   "cell_type": "markdown",
   "metadata": {
    "hidden": true
   },
   "source": [
    "#### print hostname\n",
    "`hostname`\n",
    "\n",
    "#### send packets to URL and print response\n",
    "`ping www.google.com`\n",
    "\n",
    "#### display or configure system network interfaces\n",
    "`ifconfig`\n",
    "\n",
    "`ip`\n",
    "\n",
    "#### display contents of file at a URL\n",
    "`curl <url>`\n",
    "\n",
    "#### download file from a URL\n",
    "`wget <url>`"
   ]
  },
  {
   "cell_type": "markdown",
   "metadata": {
    "heading_collapsed": true
   },
   "source": [
    "### Pipes and Filters"
   ]
  },
  {
   "cell_type": "markdown",
   "metadata": {
    "hidden": true
   },
   "source": [
    "#### chain filter commands using the pipe operator\n",
    "`ls | sort -r`\n",
    "\n",
    "#### pipe the output of manual page for ls to head to display the first 20 lines\n",
    "`man ls | head -20`"
   ]
  },
  {
   "cell_type": "markdown",
   "metadata": {
    "heading_collapsed": true
   },
   "source": [
    "### Shell and Environment Variables"
   ]
  },
  {
   "cell_type": "markdown",
   "metadata": {
    "hidden": true
   },
   "source": [
    "#### list all shell variables\n",
    "`set`\n",
    "\n",
    "#### define a shell variable called my_planet and assign value Earth to it\n",
    "`my_planet=Earth`\n",
    "\n",
    "#### display shell variable\n",
    "`echo $my_planet`\n",
    "\n",
    "#### list all environment variables\n",
    "`env`\n",
    "\n",
    "#### environment vars: define/extend variable scope to child processes\n",
    "`export my_planet`\n",
    "\n",
    "`export my_galaxy='Milky Way'`"
   ]
  },
  {
   "cell_type": "markdown",
   "metadata": {
    "heading_collapsed": true
   },
   "source": [
    "### Metacharacters"
   ]
  },
  {
   "cell_type": "markdown",
   "metadata": {
    "hidden": true
   },
   "source": [
    "* **\\*** represents **any number of characters**\n",
    "* **?** represents **any single character**\n",
    "* **\\[ \\]** represents a **range**, can be `[1-3]` or `[1,2,3]`\n",
    "\n",
    "#### comments\n",
    "`#The shell will not respond to this message`\n",
    "\n",
    "#### command separator\n",
    "`echo 'here are some files and folders'; ls`\n",
    "\n",
    "#### file name expansion wildcard\n",
    "`ls *.json`\n",
    "\n",
    "#### single character wildcard\n",
    "`ls file_2021-06-??.json`"
   ]
  },
  {
   "cell_type": "markdown",
   "metadata": {
    "heading_collapsed": true
   },
   "source": [
    "### Quoting"
   ]
  },
  {
   "cell_type": "markdown",
   "metadata": {
    "hidden": true
   },
   "source": [
    "#### single quotes - interpret literally\n",
    "`echo 'My home directory can be accessed by entering: echo $HOME'`\n",
    "\n",
    "#### double quotes - interpret literally, but evaluate metacharacters\n",
    "`echo \"My home directory is $HOME\"`\n",
    "\n",
    "#### backslash - escape metacharacter interpretation\n",
    "`echo \"This dollar sign should render: \\$\"`"
   ]
  },
  {
   "cell_type": "markdown",
   "metadata": {
    "heading_collapsed": true
   },
   "source": [
    "### I/O Redirection"
   ]
  },
  {
   "cell_type": "markdown",
   "metadata": {
    "hidden": true
   },
   "source": [
    "The **>** character or **stdout redirection operator** changes the **stdout** to be a file with the specified name rather than the console.\n",
    "\n",
    "\n",
    "The **>> redirection operato**r does an append rather than an overwrite. It will create the file if it doesn’t exist but if it does, it will append to it."
   ]
  },
  {
   "cell_type": "markdown",
   "metadata": {
    "hidden": true
   },
   "source": [
    "#### redirect output to file\n",
    "`echo 'Write this text to file x' > x.txt`\n",
    "\n",
    "#### append output to file\n",
    "`echo 'Add this line to file x' >> x.txt`\n",
    "\n",
    "#### redirect standard error to file\n",
    "`bad_command_1 2 > error.log`\n",
    "\n",
    "#### append standard error to file\n",
    "`bad_command_2 2 >> error.log`\n",
    "\n",
    "#### redirect file contents to standard input\n",
    "`tr “[a-z]” “[A-Z]” < a_text_file.txt`\n",
    "\n",
    "#### the input redirection above is equivalent to\n",
    "`cat a_text_file.txt | tr “[a-z]” “[A-Z]”`"
   ]
  },
  {
   "cell_type": "markdown",
   "metadata": {
    "heading_collapsed": true
   },
   "source": [
    "### Command Substitution"
   ]
  },
  {
   "cell_type": "markdown",
   "metadata": {
    "hidden": true
   },
   "source": [
    "#### capture output of a command and echo its value\n",
    "`THE_PRESENT=$(date)`\n",
    "\n",
    "`echo \"There is no time like $THE_PRESENT\"`"
   ]
  },
  {
   "cell_type": "markdown",
   "metadata": {
    "heading_collapsed": true
   },
   "source": [
    "### Command line arguments"
   ]
  },
  {
   "cell_type": "markdown",
   "metadata": {
    "hidden": true
   },
   "source": [
    "`./My_Bash_Script.sh arg1 arg2 arg3`"
   ]
  },
  {
   "cell_type": "markdown",
   "metadata": {
    "heading_collapsed": true
   },
   "source": [
    "### Batch vs. concurrent modes"
   ]
  },
  {
   "cell_type": "markdown",
   "metadata": {
    "hidden": true
   },
   "source": [
    "#### run commands sequentially\n",
    "`start=$(date);`\n",
    "\n",
    "`./MyBigScript.sh;`\n",
    "\n",
    "`end=$(date)`\n",
    "\n",
    "#### run commands in parallel\n",
    "`./ETL_chunk_one_on_these_nodes.sh & ./ETL_chunk_two_on_those_nodes.sh`"
   ]
  },
  {
   "cell_type": "markdown",
   "metadata": {
    "heading_collapsed": true
   },
   "source": [
    "### Scheduling jobs with Cron"
   ]
  },
  {
   "cell_type": "markdown",
   "metadata": {
    "hidden": true
   },
   "source": [
    "The **cron daemon** (**crond**) is a system-managed executable that runs in memory and is used to schedule tasks. The job scheduling syntax is: (**minute, hour, day of month, month, day of week**)\n",
    "`m h dom mon dow command`\n",
    "\n",
    "#### open crontab editor\n",
    "`crontab -e`\n",
    "\n",
    "#### append the date/time to file every Sunday at 6:15 pm\n",
    "`15 18 * * 0 date >> sundays.txt`\n",
    "\n",
    "(**\\*** means any)\n",
    "\n",
    "#### run a shell script on the first minute of the first day of each month\n",
    "`1 0 1 * * ./My_Shell_Script.sh`\n",
    "\n",
    "#### back up your home directory every Monday at 3 am\n",
    "`0 3 * * 1 tar -cvf my_backup_path\\my_archive.tar.gz $HOME\\`\n",
    "\n",
    "#### deploy your cron job\n",
    "- Close the crontab editor and save the file\n",
    "\n",
    "#### list all cron jobs\n",
    "`crontab -l`"
   ]
  },
  {
   "cell_type": "markdown",
   "metadata": {
    "heading_collapsed": true
   },
   "source": [
    "### User Input"
   ]
  },
  {
   "cell_type": "markdown",
   "metadata": {
    "hidden": true
   },
   "source": [
    "#### Wait for user to enter a name, and save the entered name into the variable 'name'\n",
    "`echo -n \"Enter your name :\";`\n",
    "\n",
    "`read name;`\n",
    "\n",
    "`echo \"Welcome $name\"`"
   ]
  },
  {
   "cell_type": "markdown",
   "metadata": {
    "heading_collapsed": true
   },
   "source": [
    "### Monitoring performance and status"
   ]
  },
  {
   "cell_type": "markdown",
   "metadata": {
    "hidden": true
   },
   "source": [
    "#### list selection of or all running processes and their PIDs\n",
    "`ps`\n",
    "\n",
    "`ps -e`\n",
    "\n",
    "`ps au`\n",
    "\n",
    "#### display resource usage, provides a dynamic real-time view of a running system\n",
    "`top`\n",
    "\n",
    "#### estimates and displays the disk space used by files\n",
    "`du-h`\n",
    "\n",
    "#### list mounted file systems and usage\n",
    "`df-h`\n",
    "\n",
    "#### displays the total amount of free and used memory\n",
    "`free`\n",
    "\n",
    "#### Display the amount of memory in megabytes\n",
    "`free -m`\n",
    "\n",
    "#### Display the amount of memory in gigabytes\n",
    "`free -g`\n",
    "\n",
    "####  find information about all available block devices\n",
    "`lsblk`\n",
    "\n",
    "* In the case of the virtual environment, we mostly see **loop** in this list. These are **loopback devices**, which are **virtual devices** and mean that all our data is stored on a different system. \n",
    "\n",
    "####  find information about all available block devices\n",
    "`lsblk`"
   ]
  },
  {
   "cell_type": "markdown",
   "metadata": {
    "heading_collapsed": true
   },
   "source": [
    "### Stream Editor (sed)"
   ]
  },
  {
   "cell_type": "markdown",
   "metadata": {
    "hidden": true
   },
   "source": [
    "The name **sed** is short for **stream editor**. The `sed` command is most often used for finding and replacing, or searching and deleting. The sed utility in its simplest form works like `grep`, where we can use regular expressions to find a string in a file. It can also provide a substitute string for the string we found, or delete every line that matches a string.\n",
    "\n",
    "#### find a string in a file\n",
    "`sed -n '/text/p' sample.txt`\n",
    "\n",
    "* The `-n` means it will only produce output when explicitly told to via the `p` command (the default is to print each line)\n",
    "* The `'/text/p'` tells it to print out lines that have the word `text` in them.\n",
    "\n",
    "#### delete underscores in a file (replace the `_` with nothing)\n",
    "`sed 's%_%%g' myfile.txt`\n",
    "\n",
    "* `sed` is the command.\n",
    "* `'s%_%%g'` is the pattern where:\n",
    "    * **s** means **substitute**.\n",
    "    * The **%** is the **delimiter** (we can use any characters here).\n",
    "    * The **search pattern** follows the first **%**.\n",
    "    * The **replace pattern** follows the second **%**.\n",
    "    * The **g** stands for **global replace** - replace all occurrences in the file.\n",
    "    \n",
    "#### delete underscores in a file (replace the `_` with nothing) and send the output to a file instead of the console\n",
    "`sed 's%_%%g' myfile.txt > newfile.txt`\n",
    "\n",
    "#### delete underscores in a file (replace the `_` with nothing) and save it in the original file\n",
    "`sed -i 's%_%%g' myfile.txt`\n",
    "\n",
    "#### Change the name of one of the characters\n",
    "`sed 's%Christopher%Chris%g' myfile.txt`\n",
    "\n",
    "#### deleting lines\n",
    "`sed '45,54d' myfile.txt`\n",
    "\n",
    "* The `'45,54'` represents lines from 45 to 54. The comma indicates a range.\n",
    "* The **d** lets `sed` know it will be a deletion\n",
    "\n",
    "#### deleting all blank lines\n",
    "`sed '/^$/d' myfile.txt`\n",
    "\n",
    "* **^** indicates the beginning of the line \n",
    "* **$** indicates the end of the line \n",
    "\n",
    "(Since there is nothing between the two, it means a blank line.)\n",
    "\n",
    "#### deleting from a specific line to the end of the file\n",
    "`sed '/So I tried/,$d' myfile.txt`\n",
    "\n",
    "#### deleting everything after a specific line and save it “in place”\n",
    "`sed -i '1,/So I tried/!d' myfile.txt`\n",
    "\n",
    "* The `-i` command line option means edit in place\n",
    "* The `1,/So I tried/` specifies a range from the first line up to and including “So I tried”.\n",
    "* The **!d** means things in this range will not be deleted but everything else will"
   ]
  },
  {
   "cell_type": "markdown",
   "metadata": {},
   "source": [
    "### awk"
   ]
  },
  {
   "cell_type": "markdown",
   "metadata": {},
   "source": [
    "The **awk** command provides a way to search for a pattern, and perform actions on the found text. `awk` reads lines from the input file one at a time. The line is scanned for each pattern in the program and if there is a match the associated action is executed.\n",
    "\n",
    "Either the pattern or the action can be omitted, but not both.\n",
    "* If the pattern is omitted, then the action is performed for every line.\n",
    "* If the action is omitted, then all lines that match the pattern will be printed out.\n",
    "\n",
    "A few built in AWK variables are:\n",
    "\n",
    "* `$0` The entire line - not including the newline at the end\n",
    "* `$1..$n` The fields in a line (delimited by the field separator)\n",
    "* `FNR` Current line number - just spans the current file\n",
    "* `FS` Field separator - default is space\n",
    "* `NF` Number of fields\n",
    "* `NR` Current line number - spans multiple files\n",
    "* `RS` Record separator - the default is newline\n",
    "\n",
    "\n",
    "AWK special patterns are:\n",
    "* `BEGIN` Startup actions\n",
    "* `END` Cleanup actions\n",
    "\n",
    "#### count the number of occurrences of the word “Pooh” in the text\n",
    "`awk '/Pooh/{x++}END{print x}' myfile.txt`\n",
    "\n",
    "* `awk` is the command\n",
    "* `/Pooh/` is the pattern\n",
    "* `{x++}END{print x}` is the action\n",
    "\n",
    "#### number of words in a file\n",
    "`awk '{ total = total + NF }; END {print total}' myfile.txt`\n",
    "\n",
    "#### number of lines in a file\n",
    "`awk 'END{print NR}' myfile.txt`\n",
    "\n",
    "#### pull out items in field separated data (such as csv)\n",
    "`awk -F\",\" '{if (NR!=1){ print $1 \" wrong answers \" $5 \" out of total \" $8 }}' data.csv`\n",
    "\n",
    "* The option `-F` sets the field separator, the default is space. \n",
    "* `$` specifies which column is required (such as `$5`)\n",
    "\n",
    "#### print out just the second column of the file\n",
    "`awk -F\",\" '{print $2}' data.csv`\n",
    "\n",
    "#### Print out the number of answered assessments for “Jane Smith”\n",
    "`awk -F\",\" '/Jane Smith/{print $6}' data.csv`"
   ]
  },
  {
   "cell_type": "markdown",
   "metadata": {},
   "source": [
    "### Soft and Hard links"
   ]
  },
  {
   "cell_type": "markdown",
   "metadata": {},
   "source": [
    "**Hard links** can only be created for regular files, not for directories or special files. They cannot span multiple file systems.\n",
    "\n",
    "#### Create a hard link to myfile.txt using `ln`\n",
    "`ln myfile.txt test/myfile.txt`\n",
    "\n",
    "* This will create a new hard link of myfile.txt to test/myfile.txt. On modifying test/myfile.txt file, we will notice that the changes also appear on the original myfile.txt file as both are the same files by nature.\n",
    "\n",
    "\n",
    "* The same is true for changing permissions on one of the file names, it will change them for both.\n",
    "\n",
    "A **soft link** is a special file that points to an existing file. Soft links are also called symbolic links and they can span multiple file systems. The `ln` command with the `-s` argument will create a symbolic link.\n",
    "\n",
    "#### Create a soft link to myfile.txt\n",
    "`ln -s myfile.txt myfilesym.txt`\n",
    "\n",
    "The **soft links** and **hard links** seemingly work the same. The one drawback with soft links is that if the original file is deleted, the soft link is broken and we are left with a dangling link.\n",
    "\n",
    "A hard link is an additional name for the original file that references to the target file through inode (index node). On the other hand, Soft link is different from the original file and is an alternative for it, but it does not use inode. A hard link remains valid even if the target file is deleted.\n",
    "\n",
    "* The **inode** number refers to the data structure that stores all the file information (metadata) other than the name. The number is assigned when a file is created."
   ]
  },
  {
   "cell_type": "markdown",
   "metadata": {
    "heading_collapsed": true
   },
   "source": [
    "## Shell Scripting"
   ]
  },
  {
   "cell_type": "markdown",
   "metadata": {
    "hidden": true
   },
   "source": [
    "The `.sh` extension is a convention used to indicate that the file is a shell script.\n",
    "\n",
    "A **shell script** is an executable text file in which the first line usually has the form of an interpreter directive. The **interpreter directive** is also known as a `shebang directive`, and has the following form:\n",
    "```linux\n",
    "#!interpreter [optional argument]\n",
    "```\n",
    "**Interpreter** is an absolute path to an `executable program`, and the **optional argument** is a string representing a `single argument`.\n",
    "\n",
    "Shell scripts are scripts that invoke a shell program. For example:\n",
    "* `#!/bin/sh` invokes the Bourne shell or other compatible shell program, from the bin directory.\n",
    "* `#!/bin/bash` aka the **bash shebang** invokes the Bash shell. \n",
    "\n",
    "**Shebang directives** aren't limited to shell programs. For example, we could create a python script with the following directive:\n",
    "\n",
    "*`#!/usr/bin/env python3`"
   ]
  },
  {
   "cell_type": "markdown",
   "metadata": {},
   "source": [
    "## Filesystem Hierarchy Standard (FHS)"
   ]
  },
  {
   "cell_type": "markdown",
   "metadata": {},
   "source": [
    "The **Filesystem Hierarchy Standard** ensures that software packages running on a Linux system will know where to find essential files and directories.\n",
    "\n",
    "To view the directories of the root type in:\n",
    "```bash\n",
    "cd /\n",
    "ls\n",
    "```\n",
    "The contents of the root directory include:\n",
    "* **/bin** : Binaries or executables that are essential for functionality\n",
    "* **/boot** : Files needed to boot the system such as the Linux kernel\n",
    "* **/dev** : Device files - interface with hardware drivers\n",
    "* **/etc** : Host-specific system configuration - editable text\n",
    "* **/home** : User directories live under here\n",
    "* **/lib** : Common libraries\n",
    "* **/lib64** : Common 64 bit libraries\n",
    "* **/media** : Mount point for removable media\n",
    "* **/mnt** : Mount point for mounting a filesystem temporarily\n",
    "* **/opt** : Optional add on software\n",
    "* **/proc** : Keeps track of running processes\n",
    "* **/root** : Home directory for root user\n",
    "* **/run** : Data relevant to running processes\n",
    "* **/sbin** : System binaries or executables that are essential for functionality\n",
    "* **/srv** : Data for services provided by this system\n",
    "* **/sys** : A symbolic link to the kernel source tree\n",
    "* **/temp** : Temporary files that won't be persistent between reboots\n",
    "* **/var** : Variable files - things that will change as the operating system is being run such as logs and cache files\n"
   ]
  },
  {
   "cell_type": "markdown",
   "metadata": {},
   "source": [
    "The **/bin directory** contains these commands:\n",
    "\n",
    "| Command | Description |\n",
    "|---|---|\n",
    "|cat |Concatenate files to standard output|\n",
    "|chgrp| Change file group ownership|\n",
    "|chmod| Change file access permissions|\n",
    "|chown| Change file owner and group|\n",
    "|cp| Copy files and directories|\n",
    "|date| Print or set the system data and time|\n",
    "|dd| Convert and copy a file|\n",
    "|df |Report filesystem disk space usage|\n",
    "|dmesg |Print or control the kernel message buffer|\n",
    "|echo |Display a line of text|\n",
    "|false |Do nothing, unsuccessfully|\n",
    "|hostname |Show or set the system’s host name|\n",
    "| kill | Send signals to processes|\n",
    "|ln |Make links between files|\n",
    "|login |Begin a session on the system|\n",
    "|ls |List directory contents|\n",
    "|mkdir |Make directories|\n",
    "|mknod |Make block or character special files|\n",
    "|more |Page through text|\n",
    "|mount |Mount a filesystem|\n",
    "|mv |Move/rename files|\n",
    "|ps |Report process status|\n",
    "|pwd |Print name of current working directory|\n",
    "|rm |Remove files or directories|\n",
    "\n",
    "The **/boot directory** contains everything required for the boot process. The exceptions are **configuration files** not needed at boot time and the **map installer**. The operating system kernel must be located in **/** or **/boot**.\n",
    "\n",
    "The **/dev directory** contains special or device files. These might also contain some **symbolic links** (**symlink**). \n",
    "\n",
    "* A **symlink** is a type of file in Linux that points to a different file or folder. Symlinks allow multiple access points to a file without needing multiple copies.\n",
    "\n",
    "The **/etc directory** contains all system related configuration files. **Configuration files** are editable text files, executable files should not be placed in this directory. The configuration files should be placed in subdirectories of the `/etc` folder grouped by the application they serve.\n",
    "\n",
    "The **/home directory** contains user directories.\n",
    "\n",
    "The **/lib directory** contains essential shared libraries and kernel modules. The `/lib` directory contains shared library images needed to boot the system and run the commands in `/bin` and `/sbin`.\n",
    "\n",
    "The **/media directory** is used for removable media such as USB drives and CD ROMS. This is typically used by the system. \n",
    "The **/mnt directory** is used for temporarily mounted file systems, mostly for user mounted items.\n",
    "External devices are **mounted** to the Linux files system at `/media` or `/mnt`.\n",
    "\n",
    "The **/opt directory** is reserved for the installation of add-on application software packages. \n",
    "\n",
    "The **/proc directory** or more often referred to as filesystem is built every time the system starts and it contains information about currently running processes, hardware and memory management. It represents the current state of the kernel.\n",
    "\n",
    "The **/run directory** contains system information about the system since it was booted. This directory must be cleared at the beginning of the boot process. This directory contains **.pid** files or **Processor identifier files** (**PID**).\n",
    "\n",
    "* A **PID** file consists of a process identifier in ASCII-encoded decimal, followed by a newline character.\n",
    "\n",
    "The **/sbin directory** is for system binaries. Binary files are executable programs and may also be referred to as **commands**. These binary files are essential for booting, restoring, recovering, and repairing the system. The `/sbin` directory must not contain any subdirectories. At the very least the `/sbin` directory must contain the shutdown command.\n",
    "\n",
    "* The **/bin directory** contains binaries (commands) that are for users as well as items needed to bring the system up or repair it. The **/sbin directory** contains binaries that the system uses for booting up. These are generally not run by users, you need sudo privileges to be able to run them.\n",
    "\n",
    "The **/srv directory** is used for data for services provided by the system.\n",
    "\n",
    "The **/sys directory** is a virtual file system where we can find information about devices, drivers, and other kernel components.\n",
    "\n",
    "The **/tmp directory** may be used by applications to store temporary files, files that an application does not expect to remain after it stops running. It is recommended (but not required) that the files in the `/tmp` are deleted whenever the\n",
    "system is rebooted.\n",
    "\n",
    "The data in the **/usr directory** is read only. It is for user runnable programs and user accessible data is located. The required directories, or symbolic links to directories in `/usr` are:\n",
    "\n",
    "| Command | Description |\n",
    "|---|---|\n",
    "|bin | Most user commands|\n",
    "|lib| Libraries|\n",
    "|local| Local hierarchy (empty after main installation)|\n",
    "|sbin| Non-vital system binaries|\n",
    "|share| Architecture-independent|\n",
    "\n",
    "The optional directories, or symbolic links to directories in `/usr` are:\n",
    "\n",
    "| Command | Description |\n",
    "|---|---|\n",
    "|games | Games and educational binaries|\n",
    "|include| Header files included by C programs|\n",
    "|lib <qual>| Alternate Format Libraries|\n",
    "|libexec| Binaries run by other programs|\n",
    "|src| Source code|\n",
    " \n",
    "* The **/bin directory** contains executable commands that are required by the system and **/usr/bin** contains executable files that are not required.\n",
    " \n",
    "* One of the useful commands in the **/usr/bin directory** is **whereis**. Runing `whereis python3` shows all the locations of python3 related files.\n",
    "  \n",
    "* The **/sbin directory** holds commands needed to boot the system. The **/usr/sbin direcory** contains program binaries for system administration which are not essential for the boot process.\n",
    "    \n",
    "\n",
    "The **/usr/local directory** is for use by the system administrator when installing software locally. The following directories, or symbolic links to directories, must be in `/usr/local`:\n",
    "   \n",
    "| Directory| Description |\n",
    "|---|---|\n",
    "| bin | Local binaries |\n",
    "| etc | Host-specific system configuration for local binaries |\n",
    "| games | Local game binaries |\n",
    "| include | Local C header files |\n",
    "| lib | Local libraries |\n",
    "| man | Local online manuals |\n",
    "| sbin | Local system binaries |\n",
    "| share | Local architecture-independent hierarchy |\n",
    "| src | Local source code |\n",
    "    \n",
    "    \n",
    "The **/var** or **variable data** hierarchy contains files to which the system writes data during the course of its operation. The following directories, or symbolic links to directories, are required in `/var`:\n",
    "    \n",
    "| Directory | Description |\n",
    "|---|---|\n",
    "| cache | Application cache data |\n",
    "| lib | Variable state information |\n",
    "| local | Variable data for /usr/local |\n",
    "| lock | Lock files |\n",
    "| log | Log files and directories |\n",
    "| opt | Variable data for /opt |\n",
    "| run | Data relevant to running processes |\n",
    "| spool | Application spool data |\n",
    "| tmp | Temporary files preserved between system reboots |"
   ]
  },
  {
   "cell_type": "code",
   "execution_count": null,
   "metadata": {},
   "outputs": [],
   "source": []
  }
 ],
 "metadata": {
  "kernelspec": {
   "display_name": "Python 3",
   "language": "python",
   "name": "python3"
  },
  "language_info": {
   "codemirror_mode": {
    "name": "ipython",
    "version": 3
   },
   "file_extension": ".py",
   "mimetype": "text/x-python",
   "name": "python",
   "nbconvert_exporter": "python",
   "pygments_lexer": "ipython3",
   "version": "3.9.7"
  },
  "toc": {
   "base_numbering": 1,
   "nav_menu": {},
   "number_sections": false,
   "sideBar": true,
   "skip_h1_title": false,
   "title_cell": "Table of Contents",
   "title_sidebar": "Contents",
   "toc_cell": false,
   "toc_position": {},
   "toc_section_display": true,
   "toc_window_display": false
  },
  "varInspector": {
   "cols": {
    "lenName": 16,
    "lenType": 16,
    "lenVar": 40
   },
   "kernels_config": {
    "python": {
     "delete_cmd_postfix": "",
     "delete_cmd_prefix": "del ",
     "library": "var_list.py",
     "varRefreshCmd": "print(var_dic_list())"
    },
    "r": {
     "delete_cmd_postfix": ") ",
     "delete_cmd_prefix": "rm(",
     "library": "var_list.r",
     "varRefreshCmd": "cat(var_dic_list()) "
    }
   },
   "types_to_exclude": [
    "module",
    "function",
    "builtin_function_or_method",
    "instance",
    "_Feature"
   ],
   "window_display": false
  }
 },
 "nbformat": 4,
 "nbformat_minor": 4
}
